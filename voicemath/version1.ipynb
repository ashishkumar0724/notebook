{
  "nbformat": 4,
  "nbformat_minor": 0,
  "metadata": {
    "colab": {
      "provenance": []
    },
    "kernelspec": {
      "name": "python3",
      "display_name": "Python 3"
    },
    "language_info": {
      "name": "python"
    }
  },
  "cells": [
    {
      "cell_type": "code",
      "source": [
        "# Install required packages\n",
        "!pip install SpeechRecognition pydub numpy"
      ],
      "metadata": {
        "colab": {
          "base_uri": "https://localhost:8080/"
        },
        "id": "dRD_ruF16Tmi",
        "outputId": "53478e50-2b03-489b-8e03-0233b7cbdee5"
      },
      "execution_count": 14,
      "outputs": [
        {
          "output_type": "stream",
          "name": "stdout",
          "text": [
            "Requirement already satisfied: SpeechRecognition in /usr/local/lib/python3.11/dist-packages (3.14.3)\n",
            "Requirement already satisfied: pydub in /usr/local/lib/python3.11/dist-packages (0.25.1)\n",
            "Requirement already satisfied: numpy in /usr/local/lib/python3.11/dist-packages (2.0.2)\n",
            "Requirement already satisfied: typing-extensions in /usr/local/lib/python3.11/dist-packages (from SpeechRecognition) (4.14.1)\n"
          ]
        }
      ]
    },
    {
      "cell_type": "code",
      "source": [
        "# 🧮 Voice-Controlled Arithmetic Calculator - Final Working Version\n",
        "\n",
        "from IPython.display import Javascript, display\n",
        "from google.colab import output\n",
        "import base64, os\n",
        "from pydub import AudioSegment\n",
        "import speech_recognition as sr\n",
        "import re\n",
        "\n",
        "# Install dependencies\n",
        "os.system('apt-get -qq install -y ffmpeg')\n",
        "os.system('pip -q install pydub SpeechRecognition')\n",
        "\n",
        "# JavaScript to record 3 seconds of mono audio\n",
        "JS_RECORD = \"\"\"\n",
        "async function recordAudio() {\n",
        "  const stream = await navigator.mediaDevices.getUserMedia({ audio: true });\n",
        "  const ctx = new AudioContext();\n",
        "  const src = ctx.createMediaStreamSource(stream);\n",
        "  const dest = ctx.createMediaStreamDestination();\n",
        "  src.connect(dest);\n",
        "\n",
        "  const streamLeft = new MediaStream([dest.stream.getAudioTracks()[0]]);\n",
        "  const mediaRecorder = new MediaRecorder(streamLeft);\n",
        "\n",
        "  const chunks = [];\n",
        "  mediaRecorder.ondataavailable = e => chunks.push(e.data);\n",
        "  mediaRecorder.start();\n",
        "\n",
        "  await new Promise(r => setTimeout(r, 3000));\n",
        "  mediaRecorder.stop();\n",
        "\n",
        "  return new Promise(resolve => {\n",
        "    mediaRecorder.onstop = () => {\n",
        "      const blob = new Blob(chunks, { type: 'audio/webm' });\n",
        "      const reader = new FileReader();\n",
        "      reader.onload = () => resolve(reader.result);\n",
        "      reader.readAsDataURL(blob);\n",
        "    };\n",
        "  });\n",
        "}\n",
        "\"\"\"\n",
        "\n",
        "def recognize_speech():\n",
        "    print(\"🎙 Speak now! (Recording 3 seconds...)\")\n",
        "\n",
        "    # Inject JS and trigger recording\n",
        "    display(Javascript(JS_RECORD))\n",
        "    display(Javascript('recordAudio()'))\n",
        "\n",
        "    # Wait for result\n",
        "    try:\n",
        "        data_b64 = output.eval_js(\"recordAudio()\")\n",
        "        header, data = data_b64.split(',', 1)\n",
        "        webm_path = \"rec.webm\"\n",
        "        with open(webm_path, \"wb\") as f:\n",
        "            f.write(base64.b64decode(data))\n",
        "\n",
        "        # Convert WebM to WAV\n",
        "        wav_path = \"rec.wav\"\n",
        "        AudioSegment.from_file(webm_path).set_frame_rate(16000).set_channels(1).export(wav_path, format=\"wav\")\n",
        "\n",
        "        # Recognize speech\n",
        "        r = sr.Recognizer()\n",
        "        with sr.AudioFile(wav_path) as source:\n",
        "            audio = r.record(source)\n",
        "        text = r.recognize_google(audio)\n",
        "        print(\"🧠 Recognized:\", text)\n",
        "\n",
        "        # Parse expression\n",
        "        expr = re.sub(r'(plus|times|multiplied by)', '*', text.lower())\n",
        "        expr = re.sub(r'(minus|subtracted by)', '-', expr)\n",
        "        expr = re.sub(r'(divided by|over)', '/', expr)\n",
        "        expr = re.sub(r'[^\\d\\+\\-\\*/]', '', expr)\n",
        "\n",
        "        if re.match(r'\\d+[\\+\\-\\*/]\\d+', expr):\n",
        "            result = eval(expr)\n",
        "            print(f\"✅ Result: {result}\")\n",
        "        else:\n",
        "            print(\"❌ Could not parse expression.\")\n",
        "\n",
        "    except Exception as e:\n",
        "        print(f\"⚠ Error: {str(e)}\")\n",
        "\n",
        "# ▶ Run voice calculator\n",
        "recognize_speech()"
      ],
      "metadata": {
        "colab": {
          "base_uri": "https://localhost:8080/",
          "height": 69
        },
        "id": "7IVbHBPv6BJe",
        "outputId": "a9042702-334b-4105-c7f7-895186b581a9"
      },
      "execution_count": 17,
      "outputs": [
        {
          "output_type": "stream",
          "name": "stdout",
          "text": [
            "🎙 Speak now! (Recording 3 seconds...)\n"
          ]
        },
        {
          "output_type": "display_data",
          "data": {
            "text/plain": [
              "<IPython.core.display.Javascript object>"
            ],
            "application/javascript": [
              "\n",
              "async function recordAudio() {\n",
              "  const stream = await navigator.mediaDevices.getUserMedia({ audio: true });\n",
              "  const ctx = new AudioContext();\n",
              "  const src = ctx.createMediaStreamSource(stream);\n",
              "  const dest = ctx.createMediaStreamDestination();\n",
              "  src.connect(dest);\n",
              "\n",
              "  const streamLeft = new MediaStream([dest.stream.getAudioTracks()[0]]);\n",
              "  const mediaRecorder = new MediaRecorder(streamLeft);\n",
              "\n",
              "  const chunks = [];\n",
              "  mediaRecorder.ondataavailable = e => chunks.push(e.data);\n",
              "  mediaRecorder.start();\n",
              "\n",
              "  await new Promise(r => setTimeout(r, 3000));\n",
              "  mediaRecorder.stop();\n",
              "\n",
              "  return new Promise(resolve => {\n",
              "    mediaRecorder.onstop = () => {\n",
              "      const blob = new Blob(chunks, { type: 'audio/webm' });\n",
              "      const reader = new FileReader();\n",
              "      reader.onload = () => resolve(reader.result);\n",
              "      reader.readAsDataURL(blob);\n",
              "    };\n",
              "  });\n",
              "}\n"
            ]
          },
          "metadata": {}
        },
        {
          "output_type": "display_data",
          "data": {
            "text/plain": [
              "<IPython.core.display.Javascript object>"
            ],
            "application/javascript": [
              "recordAudio()"
            ]
          },
          "metadata": {}
        },
        {
          "output_type": "stream",
          "name": "stdout",
          "text": [
            "🧠 Recognized: what is 5 * 7\n",
            "✅ Result: 35\n"
          ]
        }
      ]
    }
  ]
}