{
  "nbformat": 4,
  "nbformat_minor": 0,
  "metadata": {
    "colab": {
      "provenance": []
    },
    "kernelspec": {
      "name": "python3",
      "display_name": "Python 3"
    },
    "language_info": {
      "name": "python"
    }
  },
  "cells": [
    {
      "cell_type": "code",
      "source": [
        "# Install required packages\n",
        "!pip install SpeechRecognition pydub numpy"
      ],
      "metadata": {
        "colab": {
          "base_uri": "https://localhost:8080/"
        },
        "id": "wORI-XbsnkUA",
        "outputId": "362bc39c-a7ed-4833-872b-1b7456853e4d"
      },
      "execution_count": 1,
      "outputs": [
        {
          "output_type": "stream",
          "name": "stdout",
          "text": [
            "Collecting SpeechRecognition\n",
            "  Downloading speechrecognition-3.14.3-py3-none-any.whl.metadata (30 kB)\n",
            "Requirement already satisfied: pydub in /usr/local/lib/python3.11/dist-packages (0.25.1)\n",
            "Requirement already satisfied: numpy in /usr/local/lib/python3.11/dist-packages (2.0.2)\n",
            "Requirement already satisfied: typing-extensions in /usr/local/lib/python3.11/dist-packages (from SpeechRecognition) (4.14.1)\n",
            "Downloading speechrecognition-3.14.3-py3-none-any.whl (32.9 MB)\n",
            "\u001b[2K   \u001b[90m━━━━━━━━━━━━━━━━━━━━━━━━━━━━━━━━━━━━━━━━\u001b[0m \u001b[32m32.9/32.9 MB\u001b[0m \u001b[31m19.2 MB/s\u001b[0m eta \u001b[36m0:00:00\u001b[0m\n",
            "\u001b[?25hInstalling collected packages: SpeechRecognition\n",
            "Successfully installed SpeechRecognition-3.14.3\n"
          ]
        }
      ]
    },
    {
      "cell_type": "code",
      "source": [
        "from IPython.display import Javascript, display\n",
        "from google.colab import output\n",
        "import base64\n",
        "import numpy as np\n",
        "import wave\n",
        "\n",
        "def record_audio_browser(seconds=3):\n",
        "    print(\"🎤 Please allow microphone access when prompted.\")\n",
        "\n",
        "    js_code = \"\"\"\n",
        "    async function recordAudio() {\n",
        "      const stream = await navigator.mediaDevices.getUserMedia({ audio: true });\n",
        "      const ctx = new AudioContext();\n",
        "      const src = ctx.createMediaStreamSource(stream);\n",
        "      const dest = ctx.createMediaStreamDestination();\n",
        "      src.connect(dest);\n",
        "\n",
        "      const streamLeft = new MediaStream([dest.stream.getAudioTracks()[0]]);\n",
        "      const mediaRecorder = new MediaRecorder(streamLeft);\n",
        "\n",
        "      const chunks = [];\n",
        "      mediaRecorder.ondataavailable = e => chunks.push(e.data);\n",
        "      mediaRecorder.start();\n",
        "\n",
        "      await new Promise(resolve => setTimeout(resolve, %d));\n",
        "      mediaRecorder.stop();\n",
        "\n",
        "      return new Promise(resolve => {\n",
        "        mediaRecorder.onstop = () => {\n",
        "          const blob = new Blob(chunks, { type: 'audio/webm' });\n",
        "          const reader = new FileReader();\n",
        "          reader.onload = () => resolve(reader.result);\n",
        "          reader.readAsDataURL(blob);\n",
        "        };\n",
        "      });\n",
        "    }\n",
        "    \"\"\" % (seconds * 1000)\n",
        "\n",
        "    display(Javascript(js_code))\n",
        "    print(\"🎙️ Recording will start... Speak now!\")\n",
        "\n",
        "    try:\n",
        "        webm_data_b64 = output.eval_js(\"recordAudio()\")\n",
        "        header, encoded = webm_data_b64.split(\",\", 1)\n",
        "        webm_bytes = base64.b64decode(encoded)\n",
        "\n",
        "        # Save WebM file\n",
        "        with open(\"temp_recording.webm\", \"wb\") as f:\n",
        "            f.write(webm_bytes)\n",
        "\n",
        "        print(\" Raw audio saved as WebM.\")\n",
        "        return \"temp_recording.webm\"\n",
        "    except Exception as e:\n",
        "        print(\" Error during recording:\", str(e))\n",
        "        return None"
      ],
      "metadata": {
        "id": "EBCj8mzzn3Dt"
      },
      "execution_count": 2,
      "outputs": []
    },
    {
      "cell_type": "code",
      "source": [
        "!apt-get -qq install ffmpeg\n",
        "!pip install pydub\n",
        "from pydub import AudioSegment\n",
        "\n",
        "def convert_to_wav(input_path=\"temp_recording.webm\", output_path=\"output.wav\"):\n",
        "    try:\n",
        "        audio = AudioSegment.from_file(input_path, format=\"webm\")\n",
        "        audio = audio.set_frame_rate(16000).set_channels(1)  # Mono, 16kHz\n",
        "        audio.export(output_path, format=\"wav\")\n",
        "        print(\" Converted to valid WAV.\")\n",
        "        return output_path\n",
        "    except Exception as e:\n",
        "        print(\" Conversion failed:\", str(e))\n",
        "        return None"
      ],
      "metadata": {
        "colab": {
          "base_uri": "https://localhost:8080/"
        },
        "id": "T-mLKJe8n_cY",
        "outputId": "d64b20a4-b355-476c-85d3-31ddcee4785d"
      },
      "execution_count": 3,
      "outputs": [
        {
          "output_type": "stream",
          "name": "stdout",
          "text": [
            "Requirement already satisfied: pydub in /usr/local/lib/python3.11/dist-packages (0.25.1)\n"
          ]
        }
      ]
    },
    {
      "cell_type": "code",
      "source": [
        "import speech_recognition as sr\n",
        "\n",
        "def recognize_speech():\n",
        "    webm_path = record_audio_browser(seconds=3)\n",
        "    if webm_path is None:\n",
        "        return None\n",
        "\n",
        "    wav_path = convert_to_wav(webm_path)\n",
        "    if wav_path is None:\n",
        "        return None\n",
        "\n",
        "    r = sr.Recognizer()\n",
        "    with sr.AudioFile(wav_path) as source:\n",
        "        audio = r.record(source)\n",
        "\n",
        "    try:\n",
        "        text = r.recognize_google(audio)\n",
        "        print(\" Recognized:\", text)\n",
        "        return text\n",
        "    except sr.UnknownValueError:\n",
        "        print(\" Could not understand audio.\")\n",
        "        return None\n",
        "    except sr.RequestError:\n",
        "        print(\" Google API unavailable.\")\n",
        "        return None"
      ],
      "metadata": {
        "id": "GYnJsKlroDTe"
      },
      "execution_count": 4,
      "outputs": []
    },
    {
      "cell_type": "code",
      "source": [
        "\n",
        "def evaluate_expression(text):\n",
        "    if not text:\n",
        "        return None\n",
        "\n",
        "    replacements = {\n",
        "        \"plus\": \"+\",\n",
        "        \"minus\": \"-\",\n",
        "        \"times\": \"*\",\n",
        "        \"multiplied by\": \"*\",\n",
        "        \"divided by\": \"/\",\n",
        "        \"into\": \"*\",\n",
        "        \"what is\": \"\",\n",
        "        \"?\": \"\"\n",
        "    }\n",
        "\n",
        "    expression = text.lower()\n",
        "    for word, symbol in replacements.items():\n",
        "        expression = expression.replace(word, symbol)\n",
        "\n",
        "    import re\n",
        "    tokens = re.findall(r'[\\+\\-\\*/]|\\d+', expression)\n",
        "    if not tokens:\n",
        "        return None\n",
        "\n",
        "    expr_str = ''.join(tokens)\n",
        "    try:\n",
        "        result = eval(expr_str)\n",
        "        return result\n",
        "    except:\n",
        "        return None"
      ],
      "metadata": {
        "id": "fq5XnHy6oGCj"
      },
      "execution_count": 12,
      "outputs": []
    },
    {
      "cell_type": "code",
      "source": [
        "print(\" Click the play button and allow microphone access when prompted.\")\n",
        "print(\" Say something like: 'What is five plus three?'\")\n",
        "\n",
        "spoken_text = recognize_speech()\n",
        "\n",
        "if spoken_text:\n",
        "    result = evaluate_expression(spoken_text)\n",
        "    if result is not None:\n",
        "        print(f\"\\n Result of '{spoken_text}': {result}\")\n",
        "    else:\n",
        "        print(\" Could not parse or calculate the result.\")\n",
        "else:\n",
        "    print(\" No valid input detected.\")"
      ],
      "metadata": {
        "colab": {
          "base_uri": "https://localhost:8080/",
          "height": 173
        },
        "id": "C9VqIOTktiZh",
        "outputId": "4e7aaa8d-07d1-4ef9-c79a-4553b341f845"
      },
      "execution_count": 13,
      "outputs": [
        {
          "output_type": "stream",
          "name": "stdout",
          "text": [
            " Click the play button and allow microphone access when prompted.\n",
            " Say something like: 'What is five plus three?'\n",
            "🎤 Please allow microphone access when prompted.\n"
          ]
        },
        {
          "output_type": "display_data",
          "data": {
            "text/plain": [
              "<IPython.core.display.Javascript object>"
            ],
            "application/javascript": [
              "\n",
              "    async function recordAudio() {\n",
              "      const stream = await navigator.mediaDevices.getUserMedia({ audio: true });\n",
              "      const ctx = new AudioContext();\n",
              "      const src = ctx.createMediaStreamSource(stream);\n",
              "      const dest = ctx.createMediaStreamDestination();\n",
              "      src.connect(dest);\n",
              "\n",
              "      const streamLeft = new MediaStream([dest.stream.getAudioTracks()[0]]);\n",
              "      const mediaRecorder = new MediaRecorder(streamLeft);\n",
              "\n",
              "      const chunks = [];\n",
              "      mediaRecorder.ondataavailable = e => chunks.push(e.data);\n",
              "      mediaRecorder.start();\n",
              "\n",
              "      await new Promise(resolve => setTimeout(resolve, 3000));\n",
              "      mediaRecorder.stop();\n",
              "\n",
              "      return new Promise(resolve => {\n",
              "        mediaRecorder.onstop = () => {\n",
              "          const blob = new Blob(chunks, { type: 'audio/webm' });\n",
              "          const reader = new FileReader();\n",
              "          reader.onload = () => resolve(reader.result);\n",
              "          reader.readAsDataURL(blob);\n",
              "        };\n",
              "      });\n",
              "    }\n",
              "    "
            ]
          },
          "metadata": {}
        },
        {
          "output_type": "stream",
          "name": "stdout",
          "text": [
            "🎙️ Recording will start... Speak now!\n",
            " Raw audio saved as WebM.\n",
            " Converted to valid WAV.\n",
            " Recognized: what is 2 * 5\n",
            "\n",
            " Result of 'what is 2 * 5': 10\n"
          ]
        }
      ]
    }
  ]
}